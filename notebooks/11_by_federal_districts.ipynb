{
 "cells": [
  {
   "cell_type": "code",
   "execution_count": 12,
   "metadata": {},
   "outputs": [
    {
     "data": {
      "application/vnd.plotly.v1+json": {
       "config": {
        "plotlyServerURL": "https://plot.ly"
       },
       "data": [
        {
         "cells": {
          "align": "left",
          "fill": {
           "color": "white"
          },
          "font": {
           "size": 12
          },
          "values": [
           [
            "Северо-Западный федеральный округ",
            "Республика Карелия ",
            "Калининградская область",
            "Ленинградская область",
            "Мурманская область",
            "Псковская область",
            "Центральный федеральный округ",
            "Белгородская область",
            "Брянская область",
            "Курская область",
            "Смоленская область",
            "Южный федеральный округ",
            "Краснодарский край",
            "Астраханская область",
            "Волгоградская область",
            "Северо-Кавказский федеральный округ",
            "Кабардино-Балкарская область",
            "Приволжский федеральный округ",
            "Оренбургская область",
            "Самарская область",
            "Саратовская область",
            "Уральский федеральный округ",
            "Курганская область",
            "Челябинская область",
            "Сибирский федеральный округ",
            "Республика Тыва",
            "Алтайский край",
            "Новосибирская область",
            "Омская область",
            "Дальневосточный федеральный округ",
            "Республика Бурятия",
            "Забайкальский край",
            "Приморский край",
            "Хабаровский край",
            "Амурская область"
           ],
           [
            null,
            "Финляндия",
            "Польша, Литва",
            "Финляндия, Эстония",
            "Норвегия, Финляндия",
            "Белоруссия, Латвия, Эстония",
            null,
            "Украина",
            "Белоруссия, Украина",
            "Украина",
            "Белоруссия",
            null,
            "Абхазия",
            "Казахстан",
            "Казахстан",
            null,
            "Грузия",
            null,
            "Казахстан",
            "Казахстан",
            "Казахстан",
            null,
            "Казахстан",
            "Казахстан",
            null,
            "Монголия",
            "Казахстан",
            "Казахстан",
            "Казахстан",
            null,
            "Монголия",
            "Китай, Монголия",
            "Китай, КНДР",
            "Китай",
            "Китай"
           ],
           [
            null,
            2,
            1,
            1,
            0,
            1,
            null,
            0,
            0,
            0,
            5,
            null,
            0,
            0,
            3,
            null,
            1,
            null,
            1,
            0,
            2,
            null,
            0,
            1,
            null,
            0,
            1,
            2,
            0,
            null,
            0,
            0,
            0,
            0,
            0
           ],
           [
            null,
            1,
            0,
            5,
            0,
            1,
            null,
            1,
            1,
            0,
            4,
            null,
            1,
            1,
            1,
            null,
            0,
            null,
            1,
            0,
            0,
            null,
            0,
            2,
            null,
            0,
            0,
            0,
            1,
            null,
            0,
            0,
            0,
            0,
            0
           ],
           [
            null,
            4,
            2,
            5,
            2,
            2,
            null,
            1,
            1,
            0,
            5,
            null,
            0,
            2,
            4,
            null,
            1,
            null,
            2,
            1,
            1,
            null,
            1,
            1,
            null,
            0,
            0,
            3,
            4,
            null,
            0,
            1,
            0,
            1,
            0
           ],
           [
            null,
            4,
            3,
            4,
            3,
            0,
            null,
            1,
            0,
            0,
            5,
            null,
            0,
            1,
            3,
            null,
            0,
            null,
            2,
            1,
            2,
            null,
            1,
            0,
            null,
            0,
            1,
            2,
            1,
            null,
            0,
            0,
            1,
            0,
            0
           ],
           [
            null,
            0,
            2,
            1,
            1,
            0,
            null,
            0,
            0,
            0,
            1,
            null,
            1,
            1,
            2,
            null,
            1,
            null,
            0,
            0,
            1,
            null,
            1,
            0,
            null,
            1,
            0,
            0,
            0,
            null,
            0,
            0,
            0,
            0,
            0
           ],
           [
            null,
            0,
            0,
            2,
            1,
            1,
            null,
            0,
            0,
            0,
            0,
            null,
            0,
            0,
            0,
            null,
            0,
            null,
            1,
            1,
            0,
            null,
            0,
            0,
            null,
            0,
            0,
            1,
            0,
            null,
            0,
            0,
            0,
            0,
            0
           ],
           [
            null,
            1,
            0,
            2,
            0,
            0,
            null,
            0,
            0,
            2,
            0,
            null,
            0,
            0,
            0,
            null,
            1,
            null,
            0,
            2,
            0,
            null,
            0,
            0,
            null,
            0,
            0,
            2,
            1,
            null,
            1,
            0,
            0,
            0,
            1
           ],
           [
            null,
            1,
            0,
            1,
            0,
            0,
            null,
            1,
            0,
            1,
            1,
            null,
            0,
            0,
            0,
            null,
            0,
            null,
            0,
            1,
            0,
            null,
            0,
            0,
            null,
            0,
            0,
            1,
            0,
            null,
            0,
            0,
            0,
            0,
            0
           ],
           [
            null,
            13,
            8,
            21,
            7,
            5,
            null,
            4,
            2,
            3,
            21,
            null,
            2,
            5,
            13,
            null,
            4,
            null,
            7,
            6,
            6,
            null,
            3,
            4,
            null,
            1,
            2,
            11,
            7,
            null,
            1,
            1,
            1,
            1,
            1
           ]
          ]
         },
         "header": {
          "align": "left",
          "fill": {
           "color": "lightgrey"
          },
          "font": {
           "color": "black",
           "size": 13
          },
          "values": [
           "Приграничный субъект",
           "Пограничное государство по суше (морю)",
           2017,
           2018,
           2019,
           2020,
           2021,
           2022,
           2023,
           2024,
           "Итого"
          ]
         },
         "type": "table"
        }
       ],
       "layout": {
        "height": 800,
        "template": {
         "data": {
          "bar": [
           {
            "error_x": {
             "color": "#2a3f5f"
            },
            "error_y": {
             "color": "#2a3f5f"
            },
            "marker": {
             "line": {
              "color": "#E5ECF6",
              "width": 0.5
             },
             "pattern": {
              "fillmode": "overlay",
              "size": 10,
              "solidity": 0.2
             }
            },
            "type": "bar"
           }
          ],
          "barpolar": [
           {
            "marker": {
             "line": {
              "color": "#E5ECF6",
              "width": 0.5
             },
             "pattern": {
              "fillmode": "overlay",
              "size": 10,
              "solidity": 0.2
             }
            },
            "type": "barpolar"
           }
          ],
          "carpet": [
           {
            "aaxis": {
             "endlinecolor": "#2a3f5f",
             "gridcolor": "white",
             "linecolor": "white",
             "minorgridcolor": "white",
             "startlinecolor": "#2a3f5f"
            },
            "baxis": {
             "endlinecolor": "#2a3f5f",
             "gridcolor": "white",
             "linecolor": "white",
             "minorgridcolor": "white",
             "startlinecolor": "#2a3f5f"
            },
            "type": "carpet"
           }
          ],
          "choropleth": [
           {
            "colorbar": {
             "outlinewidth": 0,
             "ticks": ""
            },
            "type": "choropleth"
           }
          ],
          "contour": [
           {
            "colorbar": {
             "outlinewidth": 0,
             "ticks": ""
            },
            "colorscale": [
             [
              0,
              "#0d0887"
             ],
             [
              0.1111111111111111,
              "#46039f"
             ],
             [
              0.2222222222222222,
              "#7201a8"
             ],
             [
              0.3333333333333333,
              "#9c179e"
             ],
             [
              0.4444444444444444,
              "#bd3786"
             ],
             [
              0.5555555555555556,
              "#d8576b"
             ],
             [
              0.6666666666666666,
              "#ed7953"
             ],
             [
              0.7777777777777778,
              "#fb9f3a"
             ],
             [
              0.8888888888888888,
              "#fdca26"
             ],
             [
              1,
              "#f0f921"
             ]
            ],
            "type": "contour"
           }
          ],
          "contourcarpet": [
           {
            "colorbar": {
             "outlinewidth": 0,
             "ticks": ""
            },
            "type": "contourcarpet"
           }
          ],
          "heatmap": [
           {
            "colorbar": {
             "outlinewidth": 0,
             "ticks": ""
            },
            "colorscale": [
             [
              0,
              "#0d0887"
             ],
             [
              0.1111111111111111,
              "#46039f"
             ],
             [
              0.2222222222222222,
              "#7201a8"
             ],
             [
              0.3333333333333333,
              "#9c179e"
             ],
             [
              0.4444444444444444,
              "#bd3786"
             ],
             [
              0.5555555555555556,
              "#d8576b"
             ],
             [
              0.6666666666666666,
              "#ed7953"
             ],
             [
              0.7777777777777778,
              "#fb9f3a"
             ],
             [
              0.8888888888888888,
              "#fdca26"
             ],
             [
              1,
              "#f0f921"
             ]
            ],
            "type": "heatmap"
           }
          ],
          "histogram": [
           {
            "marker": {
             "pattern": {
              "fillmode": "overlay",
              "size": 10,
              "solidity": 0.2
             }
            },
            "type": "histogram"
           }
          ],
          "histogram2d": [
           {
            "colorbar": {
             "outlinewidth": 0,
             "ticks": ""
            },
            "colorscale": [
             [
              0,
              "#0d0887"
             ],
             [
              0.1111111111111111,
              "#46039f"
             ],
             [
              0.2222222222222222,
              "#7201a8"
             ],
             [
              0.3333333333333333,
              "#9c179e"
             ],
             [
              0.4444444444444444,
              "#bd3786"
             ],
             [
              0.5555555555555556,
              "#d8576b"
             ],
             [
              0.6666666666666666,
              "#ed7953"
             ],
             [
              0.7777777777777778,
              "#fb9f3a"
             ],
             [
              0.8888888888888888,
              "#fdca26"
             ],
             [
              1,
              "#f0f921"
             ]
            ],
            "type": "histogram2d"
           }
          ],
          "histogram2dcontour": [
           {
            "colorbar": {
             "outlinewidth": 0,
             "ticks": ""
            },
            "colorscale": [
             [
              0,
              "#0d0887"
             ],
             [
              0.1111111111111111,
              "#46039f"
             ],
             [
              0.2222222222222222,
              "#7201a8"
             ],
             [
              0.3333333333333333,
              "#9c179e"
             ],
             [
              0.4444444444444444,
              "#bd3786"
             ],
             [
              0.5555555555555556,
              "#d8576b"
             ],
             [
              0.6666666666666666,
              "#ed7953"
             ],
             [
              0.7777777777777778,
              "#fb9f3a"
             ],
             [
              0.8888888888888888,
              "#fdca26"
             ],
             [
              1,
              "#f0f921"
             ]
            ],
            "type": "histogram2dcontour"
           }
          ],
          "mesh3d": [
           {
            "colorbar": {
             "outlinewidth": 0,
             "ticks": ""
            },
            "type": "mesh3d"
           }
          ],
          "parcoords": [
           {
            "line": {
             "colorbar": {
              "outlinewidth": 0,
              "ticks": ""
             }
            },
            "type": "parcoords"
           }
          ],
          "pie": [
           {
            "automargin": true,
            "type": "pie"
           }
          ],
          "scatter": [
           {
            "fillpattern": {
             "fillmode": "overlay",
             "size": 10,
             "solidity": 0.2
            },
            "type": "scatter"
           }
          ],
          "scatter3d": [
           {
            "line": {
             "colorbar": {
              "outlinewidth": 0,
              "ticks": ""
             }
            },
            "marker": {
             "colorbar": {
              "outlinewidth": 0,
              "ticks": ""
             }
            },
            "type": "scatter3d"
           }
          ],
          "scattercarpet": [
           {
            "marker": {
             "colorbar": {
              "outlinewidth": 0,
              "ticks": ""
             }
            },
            "type": "scattercarpet"
           }
          ],
          "scattergeo": [
           {
            "marker": {
             "colorbar": {
              "outlinewidth": 0,
              "ticks": ""
             }
            },
            "type": "scattergeo"
           }
          ],
          "scattergl": [
           {
            "marker": {
             "colorbar": {
              "outlinewidth": 0,
              "ticks": ""
             }
            },
            "type": "scattergl"
           }
          ],
          "scattermap": [
           {
            "marker": {
             "colorbar": {
              "outlinewidth": 0,
              "ticks": ""
             }
            },
            "type": "scattermap"
           }
          ],
          "scattermapbox": [
           {
            "marker": {
             "colorbar": {
              "outlinewidth": 0,
              "ticks": ""
             }
            },
            "type": "scattermapbox"
           }
          ],
          "scatterpolar": [
           {
            "marker": {
             "colorbar": {
              "outlinewidth": 0,
              "ticks": ""
             }
            },
            "type": "scatterpolar"
           }
          ],
          "scatterpolargl": [
           {
            "marker": {
             "colorbar": {
              "outlinewidth": 0,
              "ticks": ""
             }
            },
            "type": "scatterpolargl"
           }
          ],
          "scatterternary": [
           {
            "marker": {
             "colorbar": {
              "outlinewidth": 0,
              "ticks": ""
             }
            },
            "type": "scatterternary"
           }
          ],
          "surface": [
           {
            "colorbar": {
             "outlinewidth": 0,
             "ticks": ""
            },
            "colorscale": [
             [
              0,
              "#0d0887"
             ],
             [
              0.1111111111111111,
              "#46039f"
             ],
             [
              0.2222222222222222,
              "#7201a8"
             ],
             [
              0.3333333333333333,
              "#9c179e"
             ],
             [
              0.4444444444444444,
              "#bd3786"
             ],
             [
              0.5555555555555556,
              "#d8576b"
             ],
             [
              0.6666666666666666,
              "#ed7953"
             ],
             [
              0.7777777777777778,
              "#fb9f3a"
             ],
             [
              0.8888888888888888,
              "#fdca26"
             ],
             [
              1,
              "#f0f921"
             ]
            ],
            "type": "surface"
           }
          ],
          "table": [
           {
            "cells": {
             "fill": {
              "color": "#EBF0F8"
             },
             "line": {
              "color": "white"
             }
            },
            "header": {
             "fill": {
              "color": "#C8D4E3"
             },
             "line": {
              "color": "white"
             }
            },
            "type": "table"
           }
          ]
         },
         "layout": {
          "annotationdefaults": {
           "arrowcolor": "#2a3f5f",
           "arrowhead": 0,
           "arrowwidth": 1
          },
          "autotypenumbers": "strict",
          "coloraxis": {
           "colorbar": {
            "outlinewidth": 0,
            "ticks": ""
           }
          },
          "colorscale": {
           "diverging": [
            [
             0,
             "#8e0152"
            ],
            [
             0.1,
             "#c51b7d"
            ],
            [
             0.2,
             "#de77ae"
            ],
            [
             0.3,
             "#f1b6da"
            ],
            [
             0.4,
             "#fde0ef"
            ],
            [
             0.5,
             "#f7f7f7"
            ],
            [
             0.6,
             "#e6f5d0"
            ],
            [
             0.7,
             "#b8e186"
            ],
            [
             0.8,
             "#7fbc41"
            ],
            [
             0.9,
             "#4d9221"
            ],
            [
             1,
             "#276419"
            ]
           ],
           "sequential": [
            [
             0,
             "#0d0887"
            ],
            [
             0.1111111111111111,
             "#46039f"
            ],
            [
             0.2222222222222222,
             "#7201a8"
            ],
            [
             0.3333333333333333,
             "#9c179e"
            ],
            [
             0.4444444444444444,
             "#bd3786"
            ],
            [
             0.5555555555555556,
             "#d8576b"
            ],
            [
             0.6666666666666666,
             "#ed7953"
            ],
            [
             0.7777777777777778,
             "#fb9f3a"
            ],
            [
             0.8888888888888888,
             "#fdca26"
            ],
            [
             1,
             "#f0f921"
            ]
           ],
           "sequentialminus": [
            [
             0,
             "#0d0887"
            ],
            [
             0.1111111111111111,
             "#46039f"
            ],
            [
             0.2222222222222222,
             "#7201a8"
            ],
            [
             0.3333333333333333,
             "#9c179e"
            ],
            [
             0.4444444444444444,
             "#bd3786"
            ],
            [
             0.5555555555555556,
             "#d8576b"
            ],
            [
             0.6666666666666666,
             "#ed7953"
            ],
            [
             0.7777777777777778,
             "#fb9f3a"
            ],
            [
             0.8888888888888888,
             "#fdca26"
            ],
            [
             1,
             "#f0f921"
            ]
           ]
          },
          "colorway": [
           "#636efa",
           "#EF553B",
           "#00cc96",
           "#ab63fa",
           "#FFA15A",
           "#19d3f3",
           "#FF6692",
           "#B6E880",
           "#FF97FF",
           "#FECB52"
          ],
          "font": {
           "color": "#2a3f5f"
          },
          "geo": {
           "bgcolor": "white",
           "lakecolor": "white",
           "landcolor": "#E5ECF6",
           "showlakes": true,
           "showland": true,
           "subunitcolor": "white"
          },
          "hoverlabel": {
           "align": "left"
          },
          "hovermode": "closest",
          "mapbox": {
           "style": "light"
          },
          "paper_bgcolor": "white",
          "plot_bgcolor": "#E5ECF6",
          "polar": {
           "angularaxis": {
            "gridcolor": "white",
            "linecolor": "white",
            "ticks": ""
           },
           "bgcolor": "#E5ECF6",
           "radialaxis": {
            "gridcolor": "white",
            "linecolor": "white",
            "ticks": ""
           }
          },
          "scene": {
           "xaxis": {
            "backgroundcolor": "#E5ECF6",
            "gridcolor": "white",
            "gridwidth": 2,
            "linecolor": "white",
            "showbackground": true,
            "ticks": "",
            "zerolinecolor": "white"
           },
           "yaxis": {
            "backgroundcolor": "#E5ECF6",
            "gridcolor": "white",
            "gridwidth": 2,
            "linecolor": "white",
            "showbackground": true,
            "ticks": "",
            "zerolinecolor": "white"
           },
           "zaxis": {
            "backgroundcolor": "#E5ECF6",
            "gridcolor": "white",
            "gridwidth": 2,
            "linecolor": "white",
            "showbackground": true,
            "ticks": "",
            "zerolinecolor": "white"
           }
          },
          "shapedefaults": {
           "line": {
            "color": "#2a3f5f"
           }
          },
          "ternary": {
           "aaxis": {
            "gridcolor": "white",
            "linecolor": "white",
            "ticks": ""
           },
           "baxis": {
            "gridcolor": "white",
            "linecolor": "white",
            "ticks": ""
           },
           "bgcolor": "#E5ECF6",
           "caxis": {
            "gridcolor": "white",
            "linecolor": "white",
            "ticks": ""
           }
          },
          "title": {
           "x": 0.05
          },
          "xaxis": {
           "automargin": true,
           "gridcolor": "white",
           "linecolor": "white",
           "ticks": "",
           "title": {
            "standoff": 15
           },
           "zerolinecolor": "white",
           "zerolinewidth": 2
          },
          "yaxis": {
           "automargin": true,
           "gridcolor": "white",
           "linecolor": "white",
           "ticks": "",
           "title": {
            "standoff": 15
           },
           "zerolinecolor": "white",
           "zerolinewidth": 2
          }
         }
        },
        "width": 1400
       }
      }
     },
     "metadata": {},
     "output_type": "display_data"
    }
   ],
   "source": [
    "import pandas as pd\n",
    "import plotly.graph_objects as go\n",
    "\n",
    "# Чтение Excel (путь укажи свой)\n",
    "file_path = \"/Users/olegshaltaev/repo/border_projects_analysis/mysql_data/table_by_federal_districts.xlsx\"\n",
    "\n",
    "# Прочитаем все строки, не указывая заголовок\n",
    "df_raw = pd.read_excel(file_path, header=None)\n",
    "\n",
    "# Определим, где заголовок (первая строка с \"Приграничный субъект\")\n",
    "header_idx = df_raw[df_raw.iloc[:, 0] == \"Приграничный субъект\"].index[0]\n",
    "df = pd.read_excel(file_path, header=header_idx)\n",
    "\n",
    "\n",
    "# Визуализация: интерактивная таблица Plotly\n",
    "fig = go.Figure(data=[go.Table(\n",
    "    header=dict(\n",
    "        values=list(df.columns),\n",
    "        fill_color='lightgrey',\n",
    "        align='left',\n",
    "        font=dict(size=13, color='black')\n",
    "    ),\n",
    "    cells=dict(\n",
    "        values=[df[col] for col in df.columns],\n",
    "        fill_color='white',\n",
    "        align='left',\n",
    "        font=dict(size=12)\n",
    "    )\n",
    ")])\n",
    "\n",
    "fig.update_layout(width=1400, height=800)\n",
    "fig.show()\n"
   ]
  },
  {
   "cell_type": "code",
   "execution_count": 13,
   "metadata": {},
   "outputs": [
    {
     "name": "stdout",
     "output_type": "stream",
     "text": [
      "['Приграничный субъект', 'Пограничное государство по суше (морю)', 2017, 2018, 2019, 2020, 2021, 2022, 2023, 2024, 'Итого']\n"
     ]
    }
   ],
   "source": [
    "print(df.columns.tolist())"
   ]
  }
 ],
 "metadata": {
  "kernelspec": {
   "display_name": "venv",
   "language": "python",
   "name": "python3"
  },
  "language_info": {
   "codemirror_mode": {
    "name": "ipython",
    "version": 3
   },
   "file_extension": ".py",
   "mimetype": "text/x-python",
   "name": "python",
   "nbconvert_exporter": "python",
   "pygments_lexer": "ipython3",
   "version": "3.11.10"
  }
 },
 "nbformat": 4,
 "nbformat_minor": 2
}
